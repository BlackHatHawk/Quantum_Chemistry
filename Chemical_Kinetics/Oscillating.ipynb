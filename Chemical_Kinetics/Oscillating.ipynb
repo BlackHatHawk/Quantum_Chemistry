{
 "cells": [
  {
   "cell_type": "code",
   "execution_count": 2,
   "metadata": {},
   "outputs": [],
   "source": [
    "import matplotlib.pyplot as plt\n",
    "import numpy as np"
   ]
  },
  {
   "cell_type": "markdown",
   "metadata": {},
   "source": [
    "A + Y ---> X............k1.\n",
    "\n",
    "X + Y ---> P............k2.\n",
    "\n",
    "B + X ---> 2X - Z.......k3.\n",
    "\n",
    "2X ---> Q...............k4.\n",
    "\n",
    "Z ---> Y................k5."
   ]
  },
  {
   "cell_type": "code",
   "execution_count": 5,
   "metadata": {},
   "outputs": [],
   "source": [
    "A = 1000\n",
    "B = 0\n",
    "X = 0\n",
    "Y = 0\n",
    "Z = 0\n",
    "p = 0\n",
    "Q = 0\n",
    "\n",
    "k1,k2,k3,k4,k5 = 0.1,0.1,0.1,0.1,0.1\n",
    "\n",
    "del_t = 0.01\n",
    "T = 25"
   ]
  },
  {
   "cell_type": "code",
   "execution_count": 6,
   "metadata": {},
   "outputs": [],
   "source": [
    "seg = int(T/del_t)\n",
    "Tt = np.linspace(0,T,seg)\n",
    "At = np.zeros(seg)\n",
    "Bt = np.zeros(seg)\n",
    "Xt = np.zeros(seg)\n",
    "Yt = np.zeros(seg)\n",
    "Zt = np.zeros(seg)\n",
    "Pt = np.zeros(seg)\n",
    "Qt = np.zeros(seg)\n",
    "At[0] = A\n",
    "Bt[0] = B\n",
    "Xt[0] = X\n",
    "Yt[0] = Y\n",
    "Zt[0] = Z\n",
    "Pt[0] = P\n",
    "Qt[0] = Q"
   ]
  },
  {
   "cell_type": "code",
   "execution_count": null,
   "metadata": {},
   "outputs": [],
   "source": [
    "for i in range(1,seg):\n",
    "\n",
    "    dx = k1 * At[i-1] * Yt[i-1] * del_t\n",
    "    dp = k2 * Xt[i-1] * Yt[i-1] * del_t\n",
    "    dz = k3 * Bt[i-1] * Xt[i-1] * del_t\n",
    "    dq = k4 * Xt[i-1]**2\n",
    "    dy = k5 * Zt[i-1]\n",
    "\n",
    "    At[i] = At[i-1] - dx\n",
    "    Bt[i] = Bt[i-1] - dz\n",
    "    Xt[i] = Xt[i-1] + dx - dp + dz - 2*dq\n",
    "    Yt[i] = Yt[i-1] - dx - dp + dy\n",
    "    Zt[i] = Zt[i-1] + dz - dy\n",
    "    Pt[i] = Pt[i-1] + dp\n",
    "    Qt[i] = Qt[i-1] + dq\n",
    "    "
   ]
  }
 ],
 "metadata": {
  "interpreter": {
   "hash": "1f0aadf12d90f904cfcc82c378fab5c37c37ea967db393882961fbf1349b9a36"
  },
  "kernelspec": {
   "display_name": "Python 3.8.5 ('base')",
   "language": "python",
   "name": "python3"
  },
  "language_info": {
   "codemirror_mode": {
    "name": "ipython",
    "version": 3
   },
   "file_extension": ".py",
   "mimetype": "text/x-python",
   "name": "python",
   "nbconvert_exporter": "python",
   "pygments_lexer": "ipython3",
   "version": "3.8.5"
  },
  "orig_nbformat": 4
 },
 "nbformat": 4,
 "nbformat_minor": 2
}
